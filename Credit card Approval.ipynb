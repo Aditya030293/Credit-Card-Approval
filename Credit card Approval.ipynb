{
 "cells": [
  {
   "cell_type": "code",
   "execution_count": 1,
   "metadata": {},
   "outputs": [],
   "source": [
    "import pandas as pd\n",
    "import numpy as np"
   ]
  },
  {
   "cell_type": "code",
   "execution_count": 2,
   "metadata": {},
   "outputs": [],
   "source": [
    "df = pd.read_csv(\"C:/Users/Aditya/Desktop/Credit Card Approval/credit_card_approval.csv\")"
   ]
  },
  {
   "cell_type": "code",
   "execution_count": 3,
   "metadata": {},
   "outputs": [
    {
     "data": {
      "text/plain": [
       "ID                     0\n",
       "CODE_GENDER            0\n",
       "FLAG_OWN_CAR           0\n",
       "FLAG_OWN_REALTY        0\n",
       "CNT_CHILDREN           0\n",
       "AMT_INCOME_TOTAL       0\n",
       "NAME_EDUCATION_TYPE    0\n",
       "NAME_FAMILY_STATUS     0\n",
       "NAME_HOUSING_TYPE      0\n",
       "DAYS_BIRTH             0\n",
       "DAYS_EMPLOYED          0\n",
       "FLAG_MOBIL             0\n",
       "FLAG_WORK_PHONE        0\n",
       "FLAG_PHONE             0\n",
       "FLAG_EMAIL             0\n",
       "JOB                    0\n",
       "BEGIN_MONTHS           0\n",
       "STATUS                 0\n",
       "TARGET                 0\n",
       "dtype: int64"
      ]
     },
     "execution_count": 3,
     "metadata": {},
     "output_type": "execute_result"
    }
   ],
   "source": [
    "df.isnull().sum()"
   ]
  },
  {
   "cell_type": "code",
   "execution_count": 6,
   "metadata": {},
   "outputs": [
    {
     "data": {
      "text/plain": [
       "0    0.996351\n",
       "1    0.003649\n",
       "Name: TARGET, dtype: float64"
      ]
     },
     "execution_count": 6,
     "metadata": {},
     "output_type": "execute_result"
    }
   ],
   "source": [
    "# Checking balanced / imbalanced Data:\n",
    "\n",
    "df['TARGET'].value_counts(normalize = True)"
   ]
  },
  {
   "cell_type": "code",
   "execution_count": 7,
   "metadata": {},
   "outputs": [
    {
     "name": "stdout",
     "output_type": "stream",
     "text": [
      "ID : 25134 lables\n",
      "CODE_GENDER : 2 lables\n",
      "FLAG_OWN_CAR : 2 lables\n",
      "FLAG_OWN_REALTY : 2 lables\n",
      "CNT_CHILDREN : 3 lables\n",
      "AMT_INCOME_TOTAL : 195 lables\n",
      "NAME_EDUCATION_TYPE : 5 lables\n",
      "NAME_FAMILY_STATUS : 5 lables\n",
      "NAME_HOUSING_TYPE : 6 lables\n",
      "DAYS_BIRTH : 5206 lables\n",
      "DAYS_EMPLOYED : 3299 lables\n",
      "FLAG_MOBIL : 1 lables\n",
      "FLAG_WORK_PHONE : 2 lables\n",
      "FLAG_PHONE : 2 lables\n",
      "FLAG_EMAIL : 2 lables\n",
      "JOB : 18 lables\n",
      "BEGIN_MONTHS : 61 lables\n",
      "STATUS : 8 lables\n",
      "TARGET : 2 lables\n"
     ]
    }
   ],
   "source": [
    "## finding unique numbers:\n",
    "\n",
    "for feature in df.columns[:]:\n",
    "    print (feature,\":\", len(df[feature].unique()),'lables')"
   ]
  },
  {
   "cell_type": "code",
   "execution_count": 8,
   "metadata": {},
   "outputs": [
    {
     "name": "stdout",
     "output_type": "stream",
     "text": [
      "<class 'pandas.core.frame.DataFrame'>\n",
      "RangeIndex: 537667 entries, 0 to 537666\n",
      "Data columns (total 19 columns):\n",
      " #   Column               Non-Null Count   Dtype  \n",
      "---  ------               --------------   -----  \n",
      " 0   ID                   537667 non-null  int64  \n",
      " 1   CODE_GENDER          537667 non-null  object \n",
      " 2   FLAG_OWN_CAR         537667 non-null  object \n",
      " 3   FLAG_OWN_REALTY      537667 non-null  object \n",
      " 4   CNT_CHILDREN         537667 non-null  object \n",
      " 5   AMT_INCOME_TOTAL     537667 non-null  float64\n",
      " 6   NAME_EDUCATION_TYPE  537667 non-null  object \n",
      " 7   NAME_FAMILY_STATUS   537667 non-null  object \n",
      " 8   NAME_HOUSING_TYPE    537667 non-null  object \n",
      " 9   DAYS_BIRTH           537667 non-null  int64  \n",
      " 10  DAYS_EMPLOYED        537667 non-null  int64  \n",
      " 11  FLAG_MOBIL           537667 non-null  int64  \n",
      " 12  FLAG_WORK_PHONE      537667 non-null  int64  \n",
      " 13  FLAG_PHONE           537667 non-null  int64  \n",
      " 14  FLAG_EMAIL           537667 non-null  int64  \n",
      " 15  JOB                  537667 non-null  object \n",
      " 16  BEGIN_MONTHS         537667 non-null  int64  \n",
      " 17  STATUS               537667 non-null  object \n",
      " 18  TARGET               537667 non-null  int64  \n",
      "dtypes: float64(1), int64(9), object(9)\n",
      "memory usage: 77.9+ MB\n"
     ]
    }
   ],
   "source": [
    "df.info()"
   ]
  },
  {
   "cell_type": "code",
   "execution_count": 9,
   "metadata": {},
   "outputs": [
    {
     "name": "stdout",
     "output_type": "stream",
     "text": [
      "CODE_GENDER : ['F' 'M']\n",
      "F    333832\n",
      "M    203835\n",
      "Name: CODE_GENDER, dtype: int64\n",
      "================\n",
      "FLAG_OWN_CAR : ['Y' 'N']\n",
      "N    306207\n",
      "Y    231460\n",
      "Name: FLAG_OWN_CAR, dtype: int64\n",
      "================\n",
      "FLAG_OWN_REALTY : ['N' 'Y']\n",
      "Y    345471\n",
      "N    192196\n",
      "Name: FLAG_OWN_REALTY, dtype: int64\n",
      "================\n",
      "CNT_CHILDREN : ['2+ children' 'No children' '1 children']\n",
      "No children    343151\n",
      "1 children     127695\n",
      "2+ children     66821\n",
      "Name: CNT_CHILDREN, dtype: int64\n",
      "================\n",
      "NAME_EDUCATION_TYPE : ['Secondary / secondary special' 'Higher education' 'Incomplete higher'\n",
      " 'Lower secondary' 'Academic degree']\n",
      "Secondary / secondary special    358317\n",
      "Higher education                 153770\n",
      "Incomplete higher                 20590\n",
      "Lower secondary                    4556\n",
      "Academic degree                     434\n",
      "Name: NAME_EDUCATION_TYPE, dtype: int64\n",
      "================\n",
      "NAME_FAMILY_STATUS : ['Married' 'Single / not married' 'Civil marriage' 'Separated' 'Widow']\n",
      "Married                 384003\n",
      "Single / not married     65944\n",
      "Civil marriage           44083\n",
      "Separated                31394\n",
      "Widow                    12243\n",
      "Name: NAME_FAMILY_STATUS, dtype: int64\n",
      "================\n",
      "NAME_HOUSING_TYPE : ['With parents' 'House / apartment' 'Rented apartment'\n",
      " 'Municipal apartment' 'Co-op apartment' 'Office apartment']\n",
      "House / apartment      474177\n",
      "With parents            29351\n",
      "Municipal apartment     18023\n",
      "Rented apartment         8561\n",
      "Office apartment         4159\n",
      "Co-op apartment          3396\n",
      "Name: NAME_HOUSING_TYPE, dtype: int64\n",
      "================\n",
      "JOB : ['Managers' 'Private service staff' 'Laborers' 'Core staff' 'Drivers'\n",
      " 'High skill tech staff' 'Realty agents' 'Secretaries' 'Accountants'\n",
      " 'Sales staff' 'Medicine staff' 'Waiters/barmen staff'\n",
      " 'Low-skill Laborers' 'Cleaning staff' 'HR staff' 'Cooking staff'\n",
      " 'Security staff' 'IT staff']\n",
      "Laborers                 131572\n",
      "Core staff                77112\n",
      "Sales staff               70362\n",
      "Managers                  67738\n",
      "Drivers                   47678\n",
      "High skill tech staff     31768\n",
      "Accountants               27223\n",
      "Medicine staff            26691\n",
      "Cooking staff             13416\n",
      "Security staff            12400\n",
      "Cleaning staff            11399\n",
      "Private service staff      6714\n",
      "Low-skill Laborers         3623\n",
      "Secretaries                3149\n",
      "Waiters/barmen staff       2557\n",
      "HR staff                   1686\n",
      "IT staff                   1319\n",
      "Realty agents              1260\n",
      "Name: JOB, dtype: int64\n",
      "================\n",
      "STATUS : ['C' '0' 'X' '2' '1' '5' '3' '4']\n",
      "C    226185\n",
      "0    200930\n",
      "X    102167\n",
      "1      6423\n",
      "5      1087\n",
      "2       542\n",
      "3       181\n",
      "4       152\n",
      "Name: STATUS, dtype: int64\n",
      "================\n"
     ]
    }
   ],
   "source": [
    "## Objective Variables:\n",
    "\n",
    "object_col = []\n",
    "\n",
    "for column in df.columns:\n",
    "    if df[column].dtype == object and len(df[column].unique()) <=30:\n",
    "        object_col.append (column)\n",
    "        print (f\"{column} : {df[column].unique()}\")\n",
    "        print (df[column].value_counts())\n",
    "        print (\"================\")"
   ]
  },
  {
   "cell_type": "code",
   "execution_count": 12,
   "metadata": {},
   "outputs": [],
   "source": [
    "### using dummy variabeles:\n",
    "df = pd.get_dummies(df,columns = ['CODE_GENDER','FLAG_OWN_CAR','FLAG_OWN_REALTY'],drop_first = True)"
   ]
  },
  {
   "cell_type": "code",
   "execution_count": 13,
   "metadata": {},
   "outputs": [
    {
     "data": {
      "text/html": [
       "<div>\n",
       "<style scoped>\n",
       "    .dataframe tbody tr th:only-of-type {\n",
       "        vertical-align: middle;\n",
       "    }\n",
       "\n",
       "    .dataframe tbody tr th {\n",
       "        vertical-align: top;\n",
       "    }\n",
       "\n",
       "    .dataframe thead th {\n",
       "        text-align: right;\n",
       "    }\n",
       "</style>\n",
       "<table border=\"1\" class=\"dataframe\">\n",
       "  <thead>\n",
       "    <tr style=\"text-align: right;\">\n",
       "      <th></th>\n",
       "      <th>ID</th>\n",
       "      <th>CNT_CHILDREN</th>\n",
       "      <th>AMT_INCOME_TOTAL</th>\n",
       "      <th>NAME_EDUCATION_TYPE</th>\n",
       "      <th>NAME_FAMILY_STATUS</th>\n",
       "      <th>NAME_HOUSING_TYPE</th>\n",
       "      <th>DAYS_BIRTH</th>\n",
       "      <th>DAYS_EMPLOYED</th>\n",
       "      <th>FLAG_MOBIL</th>\n",
       "      <th>FLAG_WORK_PHONE</th>\n",
       "      <th>FLAG_PHONE</th>\n",
       "      <th>FLAG_EMAIL</th>\n",
       "      <th>JOB</th>\n",
       "      <th>BEGIN_MONTHS</th>\n",
       "      <th>STATUS</th>\n",
       "      <th>TARGET</th>\n",
       "      <th>CODE_GENDER_M</th>\n",
       "      <th>FLAG_OWN_CAR_Y</th>\n",
       "      <th>FLAG_OWN_REALTY_Y</th>\n",
       "    </tr>\n",
       "  </thead>\n",
       "  <tbody>\n",
       "    <tr>\n",
       "      <th>0</th>\n",
       "      <td>5065438</td>\n",
       "      <td>2+ children</td>\n",
       "      <td>270000.0</td>\n",
       "      <td>Secondary / secondary special</td>\n",
       "      <td>Married</td>\n",
       "      <td>With parents</td>\n",
       "      <td>-13258</td>\n",
       "      <td>-2300</td>\n",
       "      <td>1</td>\n",
       "      <td>0</td>\n",
       "      <td>0</td>\n",
       "      <td>0</td>\n",
       "      <td>Managers</td>\n",
       "      <td>-6</td>\n",
       "      <td>C</td>\n",
       "      <td>0</td>\n",
       "      <td>0</td>\n",
       "      <td>1</td>\n",
       "      <td>0</td>\n",
       "    </tr>\n",
       "    <tr>\n",
       "      <th>1</th>\n",
       "      <td>5142753</td>\n",
       "      <td>No children</td>\n",
       "      <td>81000.0</td>\n",
       "      <td>Secondary / secondary special</td>\n",
       "      <td>Single / not married</td>\n",
       "      <td>House / apartment</td>\n",
       "      <td>-17876</td>\n",
       "      <td>-377</td>\n",
       "      <td>1</td>\n",
       "      <td>1</td>\n",
       "      <td>1</td>\n",
       "      <td>0</td>\n",
       "      <td>Private service staff</td>\n",
       "      <td>-4</td>\n",
       "      <td>0</td>\n",
       "      <td>0</td>\n",
       "      <td>0</td>\n",
       "      <td>0</td>\n",
       "      <td>0</td>\n",
       "    </tr>\n",
       "    <tr>\n",
       "      <th>2</th>\n",
       "      <td>5111146</td>\n",
       "      <td>No children</td>\n",
       "      <td>270000.0</td>\n",
       "      <td>Higher education</td>\n",
       "      <td>Married</td>\n",
       "      <td>House / apartment</td>\n",
       "      <td>-19579</td>\n",
       "      <td>-1028</td>\n",
       "      <td>1</td>\n",
       "      <td>0</td>\n",
       "      <td>1</td>\n",
       "      <td>0</td>\n",
       "      <td>Laborers</td>\n",
       "      <td>0</td>\n",
       "      <td>C</td>\n",
       "      <td>0</td>\n",
       "      <td>1</td>\n",
       "      <td>1</td>\n",
       "      <td>1</td>\n",
       "    </tr>\n",
       "    <tr>\n",
       "      <th>3</th>\n",
       "      <td>5010310</td>\n",
       "      <td>1 children</td>\n",
       "      <td>112500.0</td>\n",
       "      <td>Secondary / secondary special</td>\n",
       "      <td>Married</td>\n",
       "      <td>House / apartment</td>\n",
       "      <td>-15109</td>\n",
       "      <td>-1956</td>\n",
       "      <td>1</td>\n",
       "      <td>0</td>\n",
       "      <td>0</td>\n",
       "      <td>0</td>\n",
       "      <td>Core staff</td>\n",
       "      <td>-3</td>\n",
       "      <td>0</td>\n",
       "      <td>0</td>\n",
       "      <td>0</td>\n",
       "      <td>1</td>\n",
       "      <td>1</td>\n",
       "    </tr>\n",
       "    <tr>\n",
       "      <th>4</th>\n",
       "      <td>5010835</td>\n",
       "      <td>2+ children</td>\n",
       "      <td>139500.0</td>\n",
       "      <td>Secondary / secondary special</td>\n",
       "      <td>Married</td>\n",
       "      <td>House / apartment</td>\n",
       "      <td>-17281</td>\n",
       "      <td>-5578</td>\n",
       "      <td>1</td>\n",
       "      <td>1</td>\n",
       "      <td>0</td>\n",
       "      <td>0</td>\n",
       "      <td>Drivers</td>\n",
       "      <td>-29</td>\n",
       "      <td>0</td>\n",
       "      <td>0</td>\n",
       "      <td>1</td>\n",
       "      <td>1</td>\n",
       "      <td>1</td>\n",
       "    </tr>\n",
       "  </tbody>\n",
       "</table>\n",
       "</div>"
      ],
      "text/plain": [
       "        ID CNT_CHILDREN  AMT_INCOME_TOTAL            NAME_EDUCATION_TYPE  \\\n",
       "0  5065438  2+ children          270000.0  Secondary / secondary special   \n",
       "1  5142753  No children           81000.0  Secondary / secondary special   \n",
       "2  5111146  No children          270000.0               Higher education   \n",
       "3  5010310   1 children          112500.0  Secondary / secondary special   \n",
       "4  5010835  2+ children          139500.0  Secondary / secondary special   \n",
       "\n",
       "     NAME_FAMILY_STATUS  NAME_HOUSING_TYPE  DAYS_BIRTH  DAYS_EMPLOYED  \\\n",
       "0               Married       With parents      -13258          -2300   \n",
       "1  Single / not married  House / apartment      -17876           -377   \n",
       "2               Married  House / apartment      -19579          -1028   \n",
       "3               Married  House / apartment      -15109          -1956   \n",
       "4               Married  House / apartment      -17281          -5578   \n",
       "\n",
       "   FLAG_MOBIL  FLAG_WORK_PHONE  FLAG_PHONE  FLAG_EMAIL                    JOB  \\\n",
       "0           1                0           0           0               Managers   \n",
       "1           1                1           1           0  Private service staff   \n",
       "2           1                0           1           0               Laborers   \n",
       "3           1                0           0           0             Core staff   \n",
       "4           1                1           0           0                Drivers   \n",
       "\n",
       "   BEGIN_MONTHS STATUS  TARGET  CODE_GENDER_M  FLAG_OWN_CAR_Y  \\\n",
       "0            -6      C       0              0               1   \n",
       "1            -4      0       0              0               0   \n",
       "2             0      C       0              1               1   \n",
       "3            -3      0       0              0               1   \n",
       "4           -29      0       0              1               1   \n",
       "\n",
       "   FLAG_OWN_REALTY_Y  \n",
       "0                  0  \n",
       "1                  0  \n",
       "2                  1  \n",
       "3                  1  \n",
       "4                  1  "
      ]
     },
     "execution_count": 13,
     "metadata": {},
     "output_type": "execute_result"
    }
   ],
   "source": [
    "df.head()"
   ]
  },
  {
   "cell_type": "code",
   "execution_count": 14,
   "metadata": {},
   "outputs": [
    {
     "data": {
      "text/plain": [
       "No children    343151\n",
       "1 children     127695\n",
       "2+ children     66821\n",
       "Name: CNT_CHILDREN, dtype: int64"
      ]
     },
     "execution_count": 14,
     "metadata": {},
     "output_type": "execute_result"
    }
   ],
   "source": [
    "df['CNT_CHILDREN'].value_counts()"
   ]
  },
  {
   "cell_type": "code",
   "execution_count": 15,
   "metadata": {},
   "outputs": [],
   "source": [
    "## Using ordering variables:\n",
    "child_dictionary = {'No children': 0,'1 children': 1,'2+ children': 2 }"
   ]
  },
  {
   "cell_type": "code",
   "execution_count": 17,
   "metadata": {},
   "outputs": [
    {
     "data": {
      "text/plain": [
       "{'No children': 0, '1 children': 1, '2+ children': 2}"
      ]
     },
     "execution_count": 17,
     "metadata": {},
     "output_type": "execute_result"
    }
   ],
   "source": [
    "child_dictionary"
   ]
  },
  {
   "cell_type": "code",
   "execution_count": 18,
   "metadata": {},
   "outputs": [],
   "source": [
    "df['Child'] = df['CNT_CHILDREN'].map(child_dictionary)"
   ]
  },
  {
   "cell_type": "code",
   "execution_count": 19,
   "metadata": {},
   "outputs": [
    {
     "data": {
      "text/html": [
       "<div>\n",
       "<style scoped>\n",
       "    .dataframe tbody tr th:only-of-type {\n",
       "        vertical-align: middle;\n",
       "    }\n",
       "\n",
       "    .dataframe tbody tr th {\n",
       "        vertical-align: top;\n",
       "    }\n",
       "\n",
       "    .dataframe thead th {\n",
       "        text-align: right;\n",
       "    }\n",
       "</style>\n",
       "<table border=\"1\" class=\"dataframe\">\n",
       "  <thead>\n",
       "    <tr style=\"text-align: right;\">\n",
       "      <th></th>\n",
       "      <th>ID</th>\n",
       "      <th>CNT_CHILDREN</th>\n",
       "      <th>AMT_INCOME_TOTAL</th>\n",
       "      <th>NAME_EDUCATION_TYPE</th>\n",
       "      <th>NAME_FAMILY_STATUS</th>\n",
       "      <th>NAME_HOUSING_TYPE</th>\n",
       "      <th>DAYS_BIRTH</th>\n",
       "      <th>DAYS_EMPLOYED</th>\n",
       "      <th>FLAG_MOBIL</th>\n",
       "      <th>FLAG_WORK_PHONE</th>\n",
       "      <th>FLAG_PHONE</th>\n",
       "      <th>FLAG_EMAIL</th>\n",
       "      <th>JOB</th>\n",
       "      <th>BEGIN_MONTHS</th>\n",
       "      <th>STATUS</th>\n",
       "      <th>TARGET</th>\n",
       "      <th>CODE_GENDER_M</th>\n",
       "      <th>FLAG_OWN_CAR_Y</th>\n",
       "      <th>FLAG_OWN_REALTY_Y</th>\n",
       "      <th>Child</th>\n",
       "    </tr>\n",
       "  </thead>\n",
       "  <tbody>\n",
       "    <tr>\n",
       "      <th>0</th>\n",
       "      <td>5065438</td>\n",
       "      <td>2+ children</td>\n",
       "      <td>270000.0</td>\n",
       "      <td>Secondary / secondary special</td>\n",
       "      <td>Married</td>\n",
       "      <td>With parents</td>\n",
       "      <td>-13258</td>\n",
       "      <td>-2300</td>\n",
       "      <td>1</td>\n",
       "      <td>0</td>\n",
       "      <td>0</td>\n",
       "      <td>0</td>\n",
       "      <td>Managers</td>\n",
       "      <td>-6</td>\n",
       "      <td>C</td>\n",
       "      <td>0</td>\n",
       "      <td>0</td>\n",
       "      <td>1</td>\n",
       "      <td>0</td>\n",
       "      <td>2</td>\n",
       "    </tr>\n",
       "    <tr>\n",
       "      <th>1</th>\n",
       "      <td>5142753</td>\n",
       "      <td>No children</td>\n",
       "      <td>81000.0</td>\n",
       "      <td>Secondary / secondary special</td>\n",
       "      <td>Single / not married</td>\n",
       "      <td>House / apartment</td>\n",
       "      <td>-17876</td>\n",
       "      <td>-377</td>\n",
       "      <td>1</td>\n",
       "      <td>1</td>\n",
       "      <td>1</td>\n",
       "      <td>0</td>\n",
       "      <td>Private service staff</td>\n",
       "      <td>-4</td>\n",
       "      <td>0</td>\n",
       "      <td>0</td>\n",
       "      <td>0</td>\n",
       "      <td>0</td>\n",
       "      <td>0</td>\n",
       "      <td>0</td>\n",
       "    </tr>\n",
       "    <tr>\n",
       "      <th>2</th>\n",
       "      <td>5111146</td>\n",
       "      <td>No children</td>\n",
       "      <td>270000.0</td>\n",
       "      <td>Higher education</td>\n",
       "      <td>Married</td>\n",
       "      <td>House / apartment</td>\n",
       "      <td>-19579</td>\n",
       "      <td>-1028</td>\n",
       "      <td>1</td>\n",
       "      <td>0</td>\n",
       "      <td>1</td>\n",
       "      <td>0</td>\n",
       "      <td>Laborers</td>\n",
       "      <td>0</td>\n",
       "      <td>C</td>\n",
       "      <td>0</td>\n",
       "      <td>1</td>\n",
       "      <td>1</td>\n",
       "      <td>1</td>\n",
       "      <td>0</td>\n",
       "    </tr>\n",
       "    <tr>\n",
       "      <th>3</th>\n",
       "      <td>5010310</td>\n",
       "      <td>1 children</td>\n",
       "      <td>112500.0</td>\n",
       "      <td>Secondary / secondary special</td>\n",
       "      <td>Married</td>\n",
       "      <td>House / apartment</td>\n",
       "      <td>-15109</td>\n",
       "      <td>-1956</td>\n",
       "      <td>1</td>\n",
       "      <td>0</td>\n",
       "      <td>0</td>\n",
       "      <td>0</td>\n",
       "      <td>Core staff</td>\n",
       "      <td>-3</td>\n",
       "      <td>0</td>\n",
       "      <td>0</td>\n",
       "      <td>0</td>\n",
       "      <td>1</td>\n",
       "      <td>1</td>\n",
       "      <td>1</td>\n",
       "    </tr>\n",
       "    <tr>\n",
       "      <th>4</th>\n",
       "      <td>5010835</td>\n",
       "      <td>2+ children</td>\n",
       "      <td>139500.0</td>\n",
       "      <td>Secondary / secondary special</td>\n",
       "      <td>Married</td>\n",
       "      <td>House / apartment</td>\n",
       "      <td>-17281</td>\n",
       "      <td>-5578</td>\n",
       "      <td>1</td>\n",
       "      <td>1</td>\n",
       "      <td>0</td>\n",
       "      <td>0</td>\n",
       "      <td>Drivers</td>\n",
       "      <td>-29</td>\n",
       "      <td>0</td>\n",
       "      <td>0</td>\n",
       "      <td>1</td>\n",
       "      <td>1</td>\n",
       "      <td>1</td>\n",
       "      <td>2</td>\n",
       "    </tr>\n",
       "  </tbody>\n",
       "</table>\n",
       "</div>"
      ],
      "text/plain": [
       "        ID CNT_CHILDREN  AMT_INCOME_TOTAL            NAME_EDUCATION_TYPE  \\\n",
       "0  5065438  2+ children          270000.0  Secondary / secondary special   \n",
       "1  5142753  No children           81000.0  Secondary / secondary special   \n",
       "2  5111146  No children          270000.0               Higher education   \n",
       "3  5010310   1 children          112500.0  Secondary / secondary special   \n",
       "4  5010835  2+ children          139500.0  Secondary / secondary special   \n",
       "\n",
       "     NAME_FAMILY_STATUS  NAME_HOUSING_TYPE  DAYS_BIRTH  DAYS_EMPLOYED  \\\n",
       "0               Married       With parents      -13258          -2300   \n",
       "1  Single / not married  House / apartment      -17876           -377   \n",
       "2               Married  House / apartment      -19579          -1028   \n",
       "3               Married  House / apartment      -15109          -1956   \n",
       "4               Married  House / apartment      -17281          -5578   \n",
       "\n",
       "   FLAG_MOBIL  FLAG_WORK_PHONE  FLAG_PHONE  FLAG_EMAIL                    JOB  \\\n",
       "0           1                0           0           0               Managers   \n",
       "1           1                1           1           0  Private service staff   \n",
       "2           1                0           1           0               Laborers   \n",
       "3           1                0           0           0             Core staff   \n",
       "4           1                1           0           0                Drivers   \n",
       "\n",
       "   BEGIN_MONTHS STATUS  TARGET  CODE_GENDER_M  FLAG_OWN_CAR_Y  \\\n",
       "0            -6      C       0              0               1   \n",
       "1            -4      0       0              0               0   \n",
       "2             0      C       0              1               1   \n",
       "3            -3      0       0              0               1   \n",
       "4           -29      0       0              1               1   \n",
       "\n",
       "   FLAG_OWN_REALTY_Y  Child  \n",
       "0                  0      2  \n",
       "1                  0      0  \n",
       "2                  1      0  \n",
       "3                  1      1  \n",
       "4                  1      2  "
      ]
     },
     "execution_count": 19,
     "metadata": {},
     "output_type": "execute_result"
    }
   ],
   "source": [
    "df.head()"
   ]
  },
  {
   "cell_type": "code",
   "execution_count": 20,
   "metadata": {},
   "outputs": [
    {
     "data": {
      "text/plain": [
       "Secondary / secondary special    358317\n",
       "Higher education                 153770\n",
       "Incomplete higher                 20590\n",
       "Lower secondary                    4556\n",
       "Academic degree                     434\n",
       "Name: NAME_EDUCATION_TYPE, dtype: int64"
      ]
     },
     "execution_count": 20,
     "metadata": {},
     "output_type": "execute_result"
    }
   ],
   "source": [
    "df['NAME_EDUCATION_TYPE'].value_counts()"
   ]
  },
  {
   "cell_type": "code",
   "execution_count": 22,
   "metadata": {},
   "outputs": [],
   "source": [
    "## Using ordering variables:\n",
    "edu_dictionary = {'Academic degree': 0,'Lower secondary': 1,'Secondary / secondary special': 2,\n",
    "                 'Incomplete higher': 3,'Higher education': 4 }"
   ]
  },
  {
   "cell_type": "code",
   "execution_count": 23,
   "metadata": {},
   "outputs": [],
   "source": [
    "df['Education'] = df['NAME_EDUCATION_TYPE'].map(edu_dictionary)"
   ]
  },
  {
   "cell_type": "code",
   "execution_count": 24,
   "metadata": {},
   "outputs": [
    {
     "data": {
      "text/plain": [
       "Laborers                 131572\n",
       "Core staff                77112\n",
       "Sales staff               70362\n",
       "Managers                  67738\n",
       "Drivers                   47678\n",
       "High skill tech staff     31768\n",
       "Accountants               27223\n",
       "Medicine staff            26691\n",
       "Cooking staff             13416\n",
       "Security staff            12400\n",
       "Cleaning staff            11399\n",
       "Private service staff      6714\n",
       "Low-skill Laborers         3623\n",
       "Secretaries                3149\n",
       "Waiters/barmen staff       2557\n",
       "HR staff                   1686\n",
       "IT staff                   1319\n",
       "Realty agents              1260\n",
       "Name: JOB, dtype: int64"
      ]
     },
     "execution_count": 24,
     "metadata": {},
     "output_type": "execute_result"
    }
   ],
   "source": [
    "df['JOB'].value_counts()"
   ]
  },
  {
   "cell_type": "code",
   "execution_count": 25,
   "metadata": {},
   "outputs": [],
   "source": [
    "job_map = df['JOB'].value_counts().to_dict()"
   ]
  },
  {
   "cell_type": "code",
   "execution_count": 26,
   "metadata": {},
   "outputs": [
    {
     "data": {
      "text/plain": [
       "{'Laborers': 131572,\n",
       " 'Core staff': 77112,\n",
       " 'Sales staff': 70362,\n",
       " 'Managers': 67738,\n",
       " 'Drivers': 47678,\n",
       " 'High skill tech staff': 31768,\n",
       " 'Accountants': 27223,\n",
       " 'Medicine staff': 26691,\n",
       " 'Cooking staff': 13416,\n",
       " 'Security staff': 12400,\n",
       " 'Cleaning staff': 11399,\n",
       " 'Private service staff': 6714,\n",
       " 'Low-skill Laborers': 3623,\n",
       " 'Secretaries': 3149,\n",
       " 'Waiters/barmen staff': 2557,\n",
       " 'HR staff': 1686,\n",
       " 'IT staff': 1319,\n",
       " 'Realty agents': 1260}"
      ]
     },
     "execution_count": 26,
     "metadata": {},
     "output_type": "execute_result"
    }
   ],
   "source": [
    "job_map"
   ]
  },
  {
   "cell_type": "code",
   "execution_count": 27,
   "metadata": {},
   "outputs": [],
   "source": [
    "df['JOB'] = df['JOB'].map(job_map)"
   ]
  },
  {
   "cell_type": "code",
   "execution_count": 28,
   "metadata": {},
   "outputs": [
    {
     "data": {
      "text/html": [
       "<div>\n",
       "<style scoped>\n",
       "    .dataframe tbody tr th:only-of-type {\n",
       "        vertical-align: middle;\n",
       "    }\n",
       "\n",
       "    .dataframe tbody tr th {\n",
       "        vertical-align: top;\n",
       "    }\n",
       "\n",
       "    .dataframe thead th {\n",
       "        text-align: right;\n",
       "    }\n",
       "</style>\n",
       "<table border=\"1\" class=\"dataframe\">\n",
       "  <thead>\n",
       "    <tr style=\"text-align: right;\">\n",
       "      <th></th>\n",
       "      <th>ID</th>\n",
       "      <th>CNT_CHILDREN</th>\n",
       "      <th>AMT_INCOME_TOTAL</th>\n",
       "      <th>NAME_EDUCATION_TYPE</th>\n",
       "      <th>NAME_FAMILY_STATUS</th>\n",
       "      <th>NAME_HOUSING_TYPE</th>\n",
       "      <th>DAYS_BIRTH</th>\n",
       "      <th>DAYS_EMPLOYED</th>\n",
       "      <th>FLAG_MOBIL</th>\n",
       "      <th>FLAG_WORK_PHONE</th>\n",
       "      <th>...</th>\n",
       "      <th>FLAG_EMAIL</th>\n",
       "      <th>JOB</th>\n",
       "      <th>BEGIN_MONTHS</th>\n",
       "      <th>STATUS</th>\n",
       "      <th>TARGET</th>\n",
       "      <th>CODE_GENDER_M</th>\n",
       "      <th>FLAG_OWN_CAR_Y</th>\n",
       "      <th>FLAG_OWN_REALTY_Y</th>\n",
       "      <th>Child</th>\n",
       "      <th>Education</th>\n",
       "    </tr>\n",
       "  </thead>\n",
       "  <tbody>\n",
       "    <tr>\n",
       "      <th>0</th>\n",
       "      <td>5065438</td>\n",
       "      <td>2+ children</td>\n",
       "      <td>270000.0</td>\n",
       "      <td>Secondary / secondary special</td>\n",
       "      <td>Married</td>\n",
       "      <td>With parents</td>\n",
       "      <td>-13258</td>\n",
       "      <td>-2300</td>\n",
       "      <td>1</td>\n",
       "      <td>0</td>\n",
       "      <td>...</td>\n",
       "      <td>0</td>\n",
       "      <td>67738</td>\n",
       "      <td>-6</td>\n",
       "      <td>C</td>\n",
       "      <td>0</td>\n",
       "      <td>0</td>\n",
       "      <td>1</td>\n",
       "      <td>0</td>\n",
       "      <td>2</td>\n",
       "      <td>2</td>\n",
       "    </tr>\n",
       "    <tr>\n",
       "      <th>1</th>\n",
       "      <td>5142753</td>\n",
       "      <td>No children</td>\n",
       "      <td>81000.0</td>\n",
       "      <td>Secondary / secondary special</td>\n",
       "      <td>Single / not married</td>\n",
       "      <td>House / apartment</td>\n",
       "      <td>-17876</td>\n",
       "      <td>-377</td>\n",
       "      <td>1</td>\n",
       "      <td>1</td>\n",
       "      <td>...</td>\n",
       "      <td>0</td>\n",
       "      <td>6714</td>\n",
       "      <td>-4</td>\n",
       "      <td>0</td>\n",
       "      <td>0</td>\n",
       "      <td>0</td>\n",
       "      <td>0</td>\n",
       "      <td>0</td>\n",
       "      <td>0</td>\n",
       "      <td>2</td>\n",
       "    </tr>\n",
       "    <tr>\n",
       "      <th>2</th>\n",
       "      <td>5111146</td>\n",
       "      <td>No children</td>\n",
       "      <td>270000.0</td>\n",
       "      <td>Higher education</td>\n",
       "      <td>Married</td>\n",
       "      <td>House / apartment</td>\n",
       "      <td>-19579</td>\n",
       "      <td>-1028</td>\n",
       "      <td>1</td>\n",
       "      <td>0</td>\n",
       "      <td>...</td>\n",
       "      <td>0</td>\n",
       "      <td>131572</td>\n",
       "      <td>0</td>\n",
       "      <td>C</td>\n",
       "      <td>0</td>\n",
       "      <td>1</td>\n",
       "      <td>1</td>\n",
       "      <td>1</td>\n",
       "      <td>0</td>\n",
       "      <td>4</td>\n",
       "    </tr>\n",
       "    <tr>\n",
       "      <th>3</th>\n",
       "      <td>5010310</td>\n",
       "      <td>1 children</td>\n",
       "      <td>112500.0</td>\n",
       "      <td>Secondary / secondary special</td>\n",
       "      <td>Married</td>\n",
       "      <td>House / apartment</td>\n",
       "      <td>-15109</td>\n",
       "      <td>-1956</td>\n",
       "      <td>1</td>\n",
       "      <td>0</td>\n",
       "      <td>...</td>\n",
       "      <td>0</td>\n",
       "      <td>77112</td>\n",
       "      <td>-3</td>\n",
       "      <td>0</td>\n",
       "      <td>0</td>\n",
       "      <td>0</td>\n",
       "      <td>1</td>\n",
       "      <td>1</td>\n",
       "      <td>1</td>\n",
       "      <td>2</td>\n",
       "    </tr>\n",
       "    <tr>\n",
       "      <th>4</th>\n",
       "      <td>5010835</td>\n",
       "      <td>2+ children</td>\n",
       "      <td>139500.0</td>\n",
       "      <td>Secondary / secondary special</td>\n",
       "      <td>Married</td>\n",
       "      <td>House / apartment</td>\n",
       "      <td>-17281</td>\n",
       "      <td>-5578</td>\n",
       "      <td>1</td>\n",
       "      <td>1</td>\n",
       "      <td>...</td>\n",
       "      <td>0</td>\n",
       "      <td>47678</td>\n",
       "      <td>-29</td>\n",
       "      <td>0</td>\n",
       "      <td>0</td>\n",
       "      <td>1</td>\n",
       "      <td>1</td>\n",
       "      <td>1</td>\n",
       "      <td>2</td>\n",
       "      <td>2</td>\n",
       "    </tr>\n",
       "  </tbody>\n",
       "</table>\n",
       "<p>5 rows × 21 columns</p>\n",
       "</div>"
      ],
      "text/plain": [
       "        ID CNT_CHILDREN  AMT_INCOME_TOTAL            NAME_EDUCATION_TYPE  \\\n",
       "0  5065438  2+ children          270000.0  Secondary / secondary special   \n",
       "1  5142753  No children           81000.0  Secondary / secondary special   \n",
       "2  5111146  No children          270000.0               Higher education   \n",
       "3  5010310   1 children          112500.0  Secondary / secondary special   \n",
       "4  5010835  2+ children          139500.0  Secondary / secondary special   \n",
       "\n",
       "     NAME_FAMILY_STATUS  NAME_HOUSING_TYPE  DAYS_BIRTH  DAYS_EMPLOYED  \\\n",
       "0               Married       With parents      -13258          -2300   \n",
       "1  Single / not married  House / apartment      -17876           -377   \n",
       "2               Married  House / apartment      -19579          -1028   \n",
       "3               Married  House / apartment      -15109          -1956   \n",
       "4               Married  House / apartment      -17281          -5578   \n",
       "\n",
       "   FLAG_MOBIL  FLAG_WORK_PHONE  ...  FLAG_EMAIL     JOB  BEGIN_MONTHS  STATUS  \\\n",
       "0           1                0  ...           0   67738            -6       C   \n",
       "1           1                1  ...           0    6714            -4       0   \n",
       "2           1                0  ...           0  131572             0       C   \n",
       "3           1                0  ...           0   77112            -3       0   \n",
       "4           1                1  ...           0   47678           -29       0   \n",
       "\n",
       "  TARGET  CODE_GENDER_M  FLAG_OWN_CAR_Y  FLAG_OWN_REALTY_Y  Child  Education  \n",
       "0      0              0               1                  0      2          2  \n",
       "1      0              0               0                  0      0          2  \n",
       "2      0              1               1                  1      0          4  \n",
       "3      0              0               1                  1      1          2  \n",
       "4      0              1               1                  1      2          2  \n",
       "\n",
       "[5 rows x 21 columns]"
      ]
     },
     "execution_count": 28,
     "metadata": {},
     "output_type": "execute_result"
    }
   ],
   "source": [
    "df.head()"
   ]
  },
  {
   "cell_type": "code",
   "execution_count": 29,
   "metadata": {},
   "outputs": [],
   "source": [
    "df.drop(['CNT_CHILDREN','NAME_EDUCATION_TYPE'], axis = 1, inplace = True)"
   ]
  },
  {
   "cell_type": "code",
   "execution_count": 30,
   "metadata": {},
   "outputs": [
    {
     "data": {
      "text/html": [
       "<div>\n",
       "<style scoped>\n",
       "    .dataframe tbody tr th:only-of-type {\n",
       "        vertical-align: middle;\n",
       "    }\n",
       "\n",
       "    .dataframe tbody tr th {\n",
       "        vertical-align: top;\n",
       "    }\n",
       "\n",
       "    .dataframe thead th {\n",
       "        text-align: right;\n",
       "    }\n",
       "</style>\n",
       "<table border=\"1\" class=\"dataframe\">\n",
       "  <thead>\n",
       "    <tr style=\"text-align: right;\">\n",
       "      <th></th>\n",
       "      <th>ID</th>\n",
       "      <th>AMT_INCOME_TOTAL</th>\n",
       "      <th>NAME_FAMILY_STATUS</th>\n",
       "      <th>NAME_HOUSING_TYPE</th>\n",
       "      <th>DAYS_BIRTH</th>\n",
       "      <th>DAYS_EMPLOYED</th>\n",
       "      <th>FLAG_MOBIL</th>\n",
       "      <th>FLAG_WORK_PHONE</th>\n",
       "      <th>FLAG_PHONE</th>\n",
       "      <th>FLAG_EMAIL</th>\n",
       "      <th>JOB</th>\n",
       "      <th>BEGIN_MONTHS</th>\n",
       "      <th>STATUS</th>\n",
       "      <th>TARGET</th>\n",
       "      <th>CODE_GENDER_M</th>\n",
       "      <th>FLAG_OWN_CAR_Y</th>\n",
       "      <th>FLAG_OWN_REALTY_Y</th>\n",
       "      <th>Child</th>\n",
       "      <th>Education</th>\n",
       "    </tr>\n",
       "  </thead>\n",
       "  <tbody>\n",
       "    <tr>\n",
       "      <th>0</th>\n",
       "      <td>5065438</td>\n",
       "      <td>270000.0</td>\n",
       "      <td>Married</td>\n",
       "      <td>With parents</td>\n",
       "      <td>-13258</td>\n",
       "      <td>-2300</td>\n",
       "      <td>1</td>\n",
       "      <td>0</td>\n",
       "      <td>0</td>\n",
       "      <td>0</td>\n",
       "      <td>67738</td>\n",
       "      <td>-6</td>\n",
       "      <td>C</td>\n",
       "      <td>0</td>\n",
       "      <td>0</td>\n",
       "      <td>1</td>\n",
       "      <td>0</td>\n",
       "      <td>2</td>\n",
       "      <td>2</td>\n",
       "    </tr>\n",
       "    <tr>\n",
       "      <th>1</th>\n",
       "      <td>5142753</td>\n",
       "      <td>81000.0</td>\n",
       "      <td>Single / not married</td>\n",
       "      <td>House / apartment</td>\n",
       "      <td>-17876</td>\n",
       "      <td>-377</td>\n",
       "      <td>1</td>\n",
       "      <td>1</td>\n",
       "      <td>1</td>\n",
       "      <td>0</td>\n",
       "      <td>6714</td>\n",
       "      <td>-4</td>\n",
       "      <td>0</td>\n",
       "      <td>0</td>\n",
       "      <td>0</td>\n",
       "      <td>0</td>\n",
       "      <td>0</td>\n",
       "      <td>0</td>\n",
       "      <td>2</td>\n",
       "    </tr>\n",
       "    <tr>\n",
       "      <th>2</th>\n",
       "      <td>5111146</td>\n",
       "      <td>270000.0</td>\n",
       "      <td>Married</td>\n",
       "      <td>House / apartment</td>\n",
       "      <td>-19579</td>\n",
       "      <td>-1028</td>\n",
       "      <td>1</td>\n",
       "      <td>0</td>\n",
       "      <td>1</td>\n",
       "      <td>0</td>\n",
       "      <td>131572</td>\n",
       "      <td>0</td>\n",
       "      <td>C</td>\n",
       "      <td>0</td>\n",
       "      <td>1</td>\n",
       "      <td>1</td>\n",
       "      <td>1</td>\n",
       "      <td>0</td>\n",
       "      <td>4</td>\n",
       "    </tr>\n",
       "    <tr>\n",
       "      <th>3</th>\n",
       "      <td>5010310</td>\n",
       "      <td>112500.0</td>\n",
       "      <td>Married</td>\n",
       "      <td>House / apartment</td>\n",
       "      <td>-15109</td>\n",
       "      <td>-1956</td>\n",
       "      <td>1</td>\n",
       "      <td>0</td>\n",
       "      <td>0</td>\n",
       "      <td>0</td>\n",
       "      <td>77112</td>\n",
       "      <td>-3</td>\n",
       "      <td>0</td>\n",
       "      <td>0</td>\n",
       "      <td>0</td>\n",
       "      <td>1</td>\n",
       "      <td>1</td>\n",
       "      <td>1</td>\n",
       "      <td>2</td>\n",
       "    </tr>\n",
       "    <tr>\n",
       "      <th>4</th>\n",
       "      <td>5010835</td>\n",
       "      <td>139500.0</td>\n",
       "      <td>Married</td>\n",
       "      <td>House / apartment</td>\n",
       "      <td>-17281</td>\n",
       "      <td>-5578</td>\n",
       "      <td>1</td>\n",
       "      <td>1</td>\n",
       "      <td>0</td>\n",
       "      <td>0</td>\n",
       "      <td>47678</td>\n",
       "      <td>-29</td>\n",
       "      <td>0</td>\n",
       "      <td>0</td>\n",
       "      <td>1</td>\n",
       "      <td>1</td>\n",
       "      <td>1</td>\n",
       "      <td>2</td>\n",
       "      <td>2</td>\n",
       "    </tr>\n",
       "  </tbody>\n",
       "</table>\n",
       "</div>"
      ],
      "text/plain": [
       "        ID  AMT_INCOME_TOTAL    NAME_FAMILY_STATUS  NAME_HOUSING_TYPE  \\\n",
       "0  5065438          270000.0               Married       With parents   \n",
       "1  5142753           81000.0  Single / not married  House / apartment   \n",
       "2  5111146          270000.0               Married  House / apartment   \n",
       "3  5010310          112500.0               Married  House / apartment   \n",
       "4  5010835          139500.0               Married  House / apartment   \n",
       "\n",
       "   DAYS_BIRTH  DAYS_EMPLOYED  FLAG_MOBIL  FLAG_WORK_PHONE  FLAG_PHONE  \\\n",
       "0      -13258          -2300           1                0           0   \n",
       "1      -17876           -377           1                1           1   \n",
       "2      -19579          -1028           1                0           1   \n",
       "3      -15109          -1956           1                0           0   \n",
       "4      -17281          -5578           1                1           0   \n",
       "\n",
       "   FLAG_EMAIL     JOB  BEGIN_MONTHS STATUS  TARGET  CODE_GENDER_M  \\\n",
       "0           0   67738            -6      C       0              0   \n",
       "1           0    6714            -4      0       0              0   \n",
       "2           0  131572             0      C       0              1   \n",
       "3           0   77112            -3      0       0              0   \n",
       "4           0   47678           -29      0       0              1   \n",
       "\n",
       "   FLAG_OWN_CAR_Y  FLAG_OWN_REALTY_Y  Child  Education  \n",
       "0               1                  0      2          2  \n",
       "1               0                  0      0          2  \n",
       "2               1                  1      0          4  \n",
       "3               1                  1      1          2  \n",
       "4               1                  1      2          2  "
      ]
     },
     "execution_count": 30,
     "metadata": {},
     "output_type": "execute_result"
    }
   ],
   "source": [
    "df.head()"
   ]
  },
  {
   "cell_type": "code",
   "execution_count": 31,
   "metadata": {},
   "outputs": [],
   "source": [
    "family_map=df['NAME_FAMILY_STATUS'].value_counts().to_dict()\n",
    "df['NAME_FAMILY_STATUS']=df['NAME_FAMILY_STATUS'].map(family_map)"
   ]
  },
  {
   "cell_type": "code",
   "execution_count": 32,
   "metadata": {},
   "outputs": [],
   "source": [
    "house_map=df['NAME_HOUSING_TYPE'].value_counts().to_dict()\n",
    "df['NAME_HOUSING_TYPE']=df['NAME_HOUSING_TYPE'].map(house_map)"
   ]
  },
  {
   "cell_type": "code",
   "execution_count": 34,
   "metadata": {},
   "outputs": [],
   "source": [
    "status_map=df['STATUS'].value_counts().to_dict()\n",
    "df['STATUS']=df['STATUS'].map(status_map)"
   ]
  },
  {
   "cell_type": "code",
   "execution_count": 35,
   "metadata": {},
   "outputs": [
    {
     "data": {
      "text/html": [
       "<div>\n",
       "<style scoped>\n",
       "    .dataframe tbody tr th:only-of-type {\n",
       "        vertical-align: middle;\n",
       "    }\n",
       "\n",
       "    .dataframe tbody tr th {\n",
       "        vertical-align: top;\n",
       "    }\n",
       "\n",
       "    .dataframe thead th {\n",
       "        text-align: right;\n",
       "    }\n",
       "</style>\n",
       "<table border=\"1\" class=\"dataframe\">\n",
       "  <thead>\n",
       "    <tr style=\"text-align: right;\">\n",
       "      <th></th>\n",
       "      <th>ID</th>\n",
       "      <th>AMT_INCOME_TOTAL</th>\n",
       "      <th>NAME_FAMILY_STATUS</th>\n",
       "      <th>NAME_HOUSING_TYPE</th>\n",
       "      <th>DAYS_BIRTH</th>\n",
       "      <th>DAYS_EMPLOYED</th>\n",
       "      <th>FLAG_MOBIL</th>\n",
       "      <th>FLAG_WORK_PHONE</th>\n",
       "      <th>FLAG_PHONE</th>\n",
       "      <th>FLAG_EMAIL</th>\n",
       "      <th>JOB</th>\n",
       "      <th>BEGIN_MONTHS</th>\n",
       "      <th>STATUS</th>\n",
       "      <th>TARGET</th>\n",
       "      <th>CODE_GENDER_M</th>\n",
       "      <th>FLAG_OWN_CAR_Y</th>\n",
       "      <th>FLAG_OWN_REALTY_Y</th>\n",
       "      <th>Child</th>\n",
       "      <th>Education</th>\n",
       "    </tr>\n",
       "  </thead>\n",
       "  <tbody>\n",
       "    <tr>\n",
       "      <th>0</th>\n",
       "      <td>5065438</td>\n",
       "      <td>270000.0</td>\n",
       "      <td>384003</td>\n",
       "      <td>29351</td>\n",
       "      <td>-13258</td>\n",
       "      <td>-2300</td>\n",
       "      <td>1</td>\n",
       "      <td>0</td>\n",
       "      <td>0</td>\n",
       "      <td>0</td>\n",
       "      <td>67738</td>\n",
       "      <td>-6</td>\n",
       "      <td>226185</td>\n",
       "      <td>0</td>\n",
       "      <td>0</td>\n",
       "      <td>1</td>\n",
       "      <td>0</td>\n",
       "      <td>2</td>\n",
       "      <td>2</td>\n",
       "    </tr>\n",
       "    <tr>\n",
       "      <th>1</th>\n",
       "      <td>5142753</td>\n",
       "      <td>81000.0</td>\n",
       "      <td>65944</td>\n",
       "      <td>474177</td>\n",
       "      <td>-17876</td>\n",
       "      <td>-377</td>\n",
       "      <td>1</td>\n",
       "      <td>1</td>\n",
       "      <td>1</td>\n",
       "      <td>0</td>\n",
       "      <td>6714</td>\n",
       "      <td>-4</td>\n",
       "      <td>200930</td>\n",
       "      <td>0</td>\n",
       "      <td>0</td>\n",
       "      <td>0</td>\n",
       "      <td>0</td>\n",
       "      <td>0</td>\n",
       "      <td>2</td>\n",
       "    </tr>\n",
       "    <tr>\n",
       "      <th>2</th>\n",
       "      <td>5111146</td>\n",
       "      <td>270000.0</td>\n",
       "      <td>384003</td>\n",
       "      <td>474177</td>\n",
       "      <td>-19579</td>\n",
       "      <td>-1028</td>\n",
       "      <td>1</td>\n",
       "      <td>0</td>\n",
       "      <td>1</td>\n",
       "      <td>0</td>\n",
       "      <td>131572</td>\n",
       "      <td>0</td>\n",
       "      <td>226185</td>\n",
       "      <td>0</td>\n",
       "      <td>1</td>\n",
       "      <td>1</td>\n",
       "      <td>1</td>\n",
       "      <td>0</td>\n",
       "      <td>4</td>\n",
       "    </tr>\n",
       "    <tr>\n",
       "      <th>3</th>\n",
       "      <td>5010310</td>\n",
       "      <td>112500.0</td>\n",
       "      <td>384003</td>\n",
       "      <td>474177</td>\n",
       "      <td>-15109</td>\n",
       "      <td>-1956</td>\n",
       "      <td>1</td>\n",
       "      <td>0</td>\n",
       "      <td>0</td>\n",
       "      <td>0</td>\n",
       "      <td>77112</td>\n",
       "      <td>-3</td>\n",
       "      <td>200930</td>\n",
       "      <td>0</td>\n",
       "      <td>0</td>\n",
       "      <td>1</td>\n",
       "      <td>1</td>\n",
       "      <td>1</td>\n",
       "      <td>2</td>\n",
       "    </tr>\n",
       "    <tr>\n",
       "      <th>4</th>\n",
       "      <td>5010835</td>\n",
       "      <td>139500.0</td>\n",
       "      <td>384003</td>\n",
       "      <td>474177</td>\n",
       "      <td>-17281</td>\n",
       "      <td>-5578</td>\n",
       "      <td>1</td>\n",
       "      <td>1</td>\n",
       "      <td>0</td>\n",
       "      <td>0</td>\n",
       "      <td>47678</td>\n",
       "      <td>-29</td>\n",
       "      <td>200930</td>\n",
       "      <td>0</td>\n",
       "      <td>1</td>\n",
       "      <td>1</td>\n",
       "      <td>1</td>\n",
       "      <td>2</td>\n",
       "      <td>2</td>\n",
       "    </tr>\n",
       "  </tbody>\n",
       "</table>\n",
       "</div>"
      ],
      "text/plain": [
       "        ID  AMT_INCOME_TOTAL  NAME_FAMILY_STATUS  NAME_HOUSING_TYPE  \\\n",
       "0  5065438          270000.0              384003              29351   \n",
       "1  5142753           81000.0               65944             474177   \n",
       "2  5111146          270000.0              384003             474177   \n",
       "3  5010310          112500.0              384003             474177   \n",
       "4  5010835          139500.0              384003             474177   \n",
       "\n",
       "   DAYS_BIRTH  DAYS_EMPLOYED  FLAG_MOBIL  FLAG_WORK_PHONE  FLAG_PHONE  \\\n",
       "0      -13258          -2300           1                0           0   \n",
       "1      -17876           -377           1                1           1   \n",
       "2      -19579          -1028           1                0           1   \n",
       "3      -15109          -1956           1                0           0   \n",
       "4      -17281          -5578           1                1           0   \n",
       "\n",
       "   FLAG_EMAIL     JOB  BEGIN_MONTHS  STATUS  TARGET  CODE_GENDER_M  \\\n",
       "0           0   67738            -6  226185       0              0   \n",
       "1           0    6714            -4  200930       0              0   \n",
       "2           0  131572             0  226185       0              1   \n",
       "3           0   77112            -3  200930       0              0   \n",
       "4           0   47678           -29  200930       0              1   \n",
       "\n",
       "   FLAG_OWN_CAR_Y  FLAG_OWN_REALTY_Y  Child  Education  \n",
       "0               1                  0      2          2  \n",
       "1               0                  0      0          2  \n",
       "2               1                  1      0          4  \n",
       "3               1                  1      1          2  \n",
       "4               1                  1      2          2  "
      ]
     },
     "execution_count": 35,
     "metadata": {},
     "output_type": "execute_result"
    }
   ],
   "source": [
    "df.head()"
   ]
  },
  {
   "cell_type": "code",
   "execution_count": 38,
   "metadata": {},
   "outputs": [
    {
     "data": {
      "text/plain": [
       "1    537667\n",
       "Name: FLAG_MOBIL, dtype: int64"
      ]
     },
     "execution_count": 38,
     "metadata": {},
     "output_type": "execute_result"
    }
   ],
   "source": [
    "df.FLAG_MOBIL.value_counts()"
   ]
  },
  {
   "cell_type": "code",
   "execution_count": 39,
   "metadata": {},
   "outputs": [],
   "source": [
    "df.drop(['FLAG_MOBIL'], axis = 1, inplace = True)"
   ]
  },
  {
   "cell_type": "code",
   "execution_count": 36,
   "metadata": {},
   "outputs": [],
   "source": [
    "import seaborn as sns\n",
    "import matplotlib.pyplot as plt"
   ]
  },
  {
   "cell_type": "code",
   "execution_count": 40,
   "metadata": {},
   "outputs": [
    {
     "data": {
      "text/plain": [
       "<matplotlib.axes._subplots.AxesSubplot at 0x209c5bba5c8>"
      ]
     },
     "execution_count": 40,
     "metadata": {},
     "output_type": "execute_result"
    },
    {
     "data": {
      "image/png": "[encoded data removed]",
      "text/plain": [
       "<Figure size 1440x1152 with 2 Axes>"
      ]
     },
     "metadata": {
      "needs_background": "light"
     },
     "output_type": "display_data"
    }
   ],
   "source": [
    "# Draw the heatmap with the mask and correct aspect ratio\n",
    "plt.figure(figsize=(20, 16))\n",
    "sns.heatmap(df.corr(), annot = True,fmt=\".2f\")"
   ]
  },
  {
   "cell_type": "code",
   "execution_count": 42,
   "metadata": {},
   "outputs": [
    {
     "data": {
      "text/plain": [
       "0    535705\n",
       "1      1962\n",
       "Name: TARGET, dtype: int64"
      ]
     },
     "execution_count": 42,
     "metadata": {},
     "output_type": "execute_result"
    }
   ],
   "source": [
    "df['TARGET'].value_counts()"
   ]
  },
  {
   "cell_type": "code",
   "execution_count": 43,
   "metadata": {},
   "outputs": [],
   "source": [
    "## Independent and dependent Feature:\n",
    "\n",
    "X = df.drop(\"TARGET\", axis = 1)\n",
    "y = df.TARGET"
   ]
  },
  {
   "cell_type": "code",
   "execution_count": 44,
   "metadata": {},
   "outputs": [],
   "source": [
    "from sklearn.model_selection import train_test_split\n",
    "X_train,X_test,y_train,y_test=train_test_split(X,y,train_size=0.7)"
   ]
  },
  {
   "cell_type": "code",
   "execution_count": 45,
   "metadata": {},
   "outputs": [
    {
     "data": {
      "text/plain": [
       "(376366, 17)"
      ]
     },
     "execution_count": 45,
     "metadata": {},
     "output_type": "execute_result"
    }
   ],
   "source": [
    "X_train.shape"
   ]
  },
  {
   "cell_type": "markdown",
   "metadata": {},
   "source": [
    "## Random Forest:"
   ]
  },
  {
   "cell_type": "code",
   "execution_count": 46,
   "metadata": {},
   "outputs": [
    {
     "data": {
      "text/plain": [
       "RandomForestClassifier()"
      ]
     },
     "execution_count": 46,
     "metadata": {},
     "output_type": "execute_result"
    }
   ],
   "source": [
    "from sklearn.ensemble import RandomForestClassifier\n",
    "classifier = RandomForestClassifier()\n",
    "classifier.fit(X_train, y_train)"
   ]
  },
  {
   "cell_type": "code",
   "execution_count": 47,
   "metadata": {},
   "outputs": [],
   "source": [
    "from sklearn.metrics import accuracy_score, confusion_matrix, classification_report"
   ]
  },
  {
   "cell_type": "code",
   "execution_count": 48,
   "metadata": {},
   "outputs": [
    {
     "name": "stdout",
     "output_type": "stream",
     "text": [
      "[[160682      0]\n",
      " [     0    619]]\n",
      "1.0\n",
      "              precision    recall  f1-score   support\n",
      "\n",
      "           0       1.00      1.00      1.00    160682\n",
      "           1       1.00      1.00      1.00       619\n",
      "\n",
      "    accuracy                           1.00    161301\n",
      "   macro avg       1.00      1.00      1.00    161301\n",
      "weighted avg       1.00      1.00      1.00    161301\n",
      "\n"
     ]
    }
   ],
   "source": [
    "y_pred = classifier.predict(X_test)\n",
    "print(confusion_matrix(y_test,y_pred))\n",
    "print(accuracy_score(y_test,y_pred))\n",
    "print(classification_report(y_test, y_pred))"
   ]
  },
  {
   "cell_type": "markdown",
   "metadata": {},
   "source": [
    "## Oversampling"
   ]
  },
  {
   "cell_type": "code",
   "execution_count": 49,
   "metadata": {},
   "outputs": [],
   "source": [
    "from imblearn.over_sampling import RandomOverSampler"
   ]
  },
  {
   "cell_type": "code",
   "execution_count": 50,
   "metadata": {},
   "outputs": [
    {
     "data": {
      "text/plain": [
       "Counter({0: 375023, 1: 1343})"
      ]
     },
     "execution_count": 50,
     "metadata": {},
     "output_type": "execute_result"
    }
   ],
   "source": [
    "from collections import Counter\n",
    "Counter(y_train)"
   ]
  },
  {
   "cell_type": "code",
   "execution_count": 51,
   "metadata": {},
   "outputs": [
    {
     "name": "stderr",
     "output_type": "stream",
     "text": [
      "C:\\Users\\Aditya\\anaconda3\\lib\\site-packages\\imblearn\\utils\\_validation.py:638: FutureWarning: Pass sampling_strategy=0.8 as keyword args. From version 0.9 passing these as positional arguments will result in an error\n",
      "  FutureWarning)\n"
     ]
    },
    {
     "name": "stdout",
     "output_type": "stream",
     "text": [
      "The number of classes before fit Counter({0: 375023, 1: 1343})\n",
      "The number of classes after fit Counter({0: 375023, 1: 300018})\n"
     ]
    }
   ],
   "source": [
    "os = RandomOverSampler(0.8)\n",
    "X_train_ns, y_train_ns = os.fit_sample(X_train, y_train)\n",
    "print(\"The number of classes before fit {}\".format(Counter(y_train)))\n",
    "print(\"The number of classes after fit {}\".format(Counter(y_train_ns)))"
   ]
  },
  {
   "cell_type": "code",
   "execution_count": 52,
   "metadata": {},
   "outputs": [
    {
     "data": {
      "text/plain": [
       "RandomForestClassifier()"
      ]
     },
     "execution_count": 52,
     "metadata": {},
     "output_type": "execute_result"
    }
   ],
   "source": [
    "from sklearn.ensemble import RandomForestClassifier\n",
    "classifier = RandomForestClassifier()\n",
    "classifier.fit(X_train_ns, y_train_ns)"
   ]
  },
  {
   "cell_type": "code",
   "execution_count": 53,
   "metadata": {},
   "outputs": [
    {
     "name": "stdout",
     "output_type": "stream",
     "text": [
      "[[160682      0]\n",
      " [     0    619]]\n",
      "1.0\n",
      "              precision    recall  f1-score   support\n",
      "\n",
      "           0       1.00      1.00      1.00    160682\n",
      "           1       1.00      1.00      1.00       619\n",
      "\n",
      "    accuracy                           1.00    161301\n",
      "   macro avg       1.00      1.00      1.00    161301\n",
      "weighted avg       1.00      1.00      1.00    161301\n",
      "\n"
     ]
    }
   ],
   "source": [
    "y_pred = classifier.predict(X_test)\n",
    "print(confusion_matrix(y_test,y_pred))\n",
    "print(accuracy_score(y_test,y_pred))\n",
    "print(classification_report(y_test, y_pred))"
   ]
  },
  {
   "cell_type": "code",
   "execution_count": null,
   "metadata": {},
   "outputs": [],
   "source": []
  },
  {
   "cell_type": "code",
   "execution_count": null,
   "metadata": {},
   "outputs": [],
   "source": []
  },
  {
   "cell_type": "code",
   "execution_count": null,
   "metadata": {},
   "outputs": [],
   "source": []
  },
  {
   "cell_type": "code",
   "execution_count": null,
   "metadata": {},
   "outputs": [],
   "source": []
  },
  {
   "cell_type": "code",
   "execution_count": null,
   "metadata": {},
   "outputs": [],
   "source": []
  }
 ],
 "metadata": {
  "kernelspec": {
   "display_name": "Python 3",
   "language": "python",
   "name": "python3"
  },
  "language_info": {
   "codemirror_mode": {
    "name": "ipython",
    "version": 3
   },
   "file_extension": ".py",
   "mimetype": "text/x-python",
   "name": "python",
   "nbconvert_exporter": "python",
   "pygments_lexer": "ipython3",
   "version": "3.7.6"
  }
 },
 "nbformat": 4,
 "nbformat_minor": 4
}
